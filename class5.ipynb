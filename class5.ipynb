{
 "cells": [
  {
   "cell_type": "markdown",
   "metadata": {},
   "source": [
    "# LISTS\n"
   ]
  },
  {
   "cell_type": "code",
   "execution_count": 10,
   "metadata": {},
   "outputs": [],
   "source": [
    "city_0 = \"Atlanta\"\n",
    "city_1 = \"Baltimore\"\n",
    "city_2 = \"Chicago\"\n",
    "city_3 = \"Denver\"\n",
    "city_4 = \"Los Angeles\"\n",
    "city_5 = \"Seattle\""
   ]
  },
  {
   "cell_type": "code",
   "execution_count": 11,
   "metadata": {},
   "outputs": [
    {
     "data": {
      "text/plain": [
       "(2002019053616, 2002023862896, 2002019053520)"
      ]
     },
     "execution_count": 11,
     "metadata": {},
     "output_type": "execute_result"
    }
   ],
   "source": [
    "id(city_0) , id(city_1) , id(city_2)"
   ]
  },
  {
   "cell_type": "markdown",
   "metadata": {},
   "source": [
    " - managing collection with just variables is less efficient\n",
    " - slower bcs of different memory addresses"
   ]
  },
  {
   "cell_type": "markdown",
   "metadata": {},
   "source": [
    "[].  #gives lists methods"
   ]
  },
  {
   "cell_type": "code",
   "execution_count": 13,
   "metadata": {},
   "outputs": [],
   "source": [
    "cities = [\"Atlanta\",\"Baltimore\",\"Chicago\"]"
   ]
  },
  {
   "cell_type": "code",
   "execution_count": 18,
   "metadata": {},
   "outputs": [
    {
     "data": {
      "text/plain": [
       "(list, 2002024507712)"
      ]
     },
     "execution_count": 18,
     "metadata": {},
     "output_type": "execute_result"
    }
   ],
   "source": [
    "type(cities) , id(cities)"
   ]
  },
  {
   "cell_type": "code",
   "execution_count": 24,
   "metadata": {},
   "outputs": [],
   "source": [
    "cities.append(\"Karachi\")\n",
    "cities.append(\"Karachi\")\n",
    "cities.append(\"Karachi\")"
   ]
  },
  {
   "cell_type": "code",
   "execution_count": 25,
   "metadata": {},
   "outputs": [
    {
     "name": "stdout",
     "output_type": "stream",
     "text": [
      "['Atlanta', 'Baltimore', 'Chicago', 'Karachi', 'Karachi', 'Karachi', 'Karachi']\n"
     ]
    }
   ],
   "source": [
    "print(cities)"
   ]
  },
  {
   "cell_type": "code",
   "execution_count": 26,
   "metadata": {},
   "outputs": [
    {
     "data": {
      "text/plain": [
       "4"
      ]
     },
     "execution_count": 26,
     "metadata": {},
     "output_type": "execute_result"
    }
   ],
   "source": [
    "cities.count(\"Karachi\")\n"
   ]
  },
  {
   "cell_type": "code",
   "execution_count": null,
   "metadata": {},
   "outputs": [],
   "source": [
    "PakistaniCities = [\"Islamabad\", \"Lahore\"]"
   ]
  },
  {
   "cell_type": "code",
   "execution_count": 29,
   "metadata": {},
   "outputs": [
    {
     "name": "stdout",
     "output_type": "stream",
     "text": [
      "['Atlanta', 'Baltimore', 'Chicago', 'Karachi', 'Karachi', 'Karachi', 'Karachi', 'Islamabad', 'Lahore', 'Islamabad', 'Lahore']\n"
     ]
    }
   ],
   "source": [
    "cities.extend(PakistaniCities)\n",
    "print(cities)\n"
   ]
  },
  {
   "cell_type": "code",
   "execution_count": 32,
   "metadata": {},
   "outputs": [
    {
     "name": "stdout",
     "output_type": "stream",
     "text": [
      "['Peshawar', 'Peshawar', 'Peshawar', 'Atlanta', 'Baltimore', 'Chicago', 'Karachi', 'Karachi', 'Karachi', 'Karachi', 'Islamabad', 'Lahore', 'Islamabad', 'Lahore']\n"
     ]
    }
   ],
   "source": [
    "cities.insert(0,\"Peshawar\")\n",
    "print(cities)\n"
   ]
  },
  {
   "cell_type": "code",
   "execution_count": 35,
   "metadata": {},
   "outputs": [
    {
     "name": "stdout",
     "output_type": "stream",
     "text": [
      "6\n"
     ]
    }
   ],
   "source": [
    "print(cities.index(\"Karachi\"))\n"
   ]
  },
  {
   "cell_type": "code",
   "execution_count": null,
   "metadata": {},
   "outputs": [],
   "source": [
    "cities.pop()   # removes from end\n",
    "cities.pop(3)  # removes from 3rd index"
   ]
  },
  {
   "cell_type": "code",
   "execution_count": null,
   "metadata": {},
   "outputs": [],
   "source": [
    "cities.append(\"\")\n",
    "cities.remove()"
   ]
  },
  {
   "cell_type": "code",
   "execution_count": 39,
   "metadata": {},
   "outputs": [
    {
     "name": "stdout",
     "output_type": "stream",
     "text": [
      "['Peshawar', 'Peshawar', 'Peshawar', 'Lahore', 'Lahore', 'Karachi', 'Karachi', 'Karachi', 'Karachi', 'Islamabad', 'Islamabad', 'Chicago', 'Baltimore', 'Atlanta']\n"
     ]
    }
   ],
   "source": [
    "cities.reverse()\n",
    "print(cities)\n"
   ]
  },
  {
   "cell_type": "code",
   "execution_count": 38,
   "metadata": {},
   "outputs": [
    {
     "name": "stdout",
     "output_type": "stream",
     "text": [
      "['Atlanta', 'Baltimore', 'Chicago', 'Islamabad', 'Islamabad', 'Karachi', 'Karachi', 'Karachi', 'Karachi', 'Lahore', 'Lahore', 'Peshawar', 'Peshawar', 'Peshawar']\n"
     ]
    }
   ],
   "source": [
    "cities.sort()\n",
    "print(cities)"
   ]
  },
  {
   "cell_type": "code",
   "execution_count": null,
   "metadata": {},
   "outputs": [],
   "source": [
    "cities.clear()   # remove all from list"
   ]
  },
  {
   "cell_type": "markdown",
   "metadata": {},
   "source": [
    "### Shallow Copy vs Deep Copy\n",
    "\n",
    "pass by reference vs value"
   ]
  },
  {
   "cell_type": "code",
   "execution_count": 36,
   "metadata": {},
   "outputs": [
    {
     "name": "stdout",
     "output_type": "stream",
     "text": [
      "['Peshawar', 'Peshawar', 'Peshawar', 'Atlanta', 'Baltimore', 'Chicago', 'Karachi', 'Karachi', 'Karachi', 'Karachi', 'Islamabad', 'Lahore', 'Islamabad', 'Lahore']\n"
     ]
    }
   ],
   "source": [
    "copyCities = cities.copy()    # returns shallow copy of copied list\n",
    "print(copyCities)\n"
   ]
  },
  {
   "cell_type": "code",
   "execution_count": 40,
   "metadata": {},
   "outputs": [
    {
     "name": "stdout",
     "output_type": "stream",
     "text": [
      "2002025516288 2002024507712\n"
     ]
    }
   ],
   "source": [
    "print(id(copyCities),id(cities))"
   ]
  },
  {
   "cell_type": "markdown",
   "metadata": {},
   "source": [
    "Shallow copy keep things at different addresses."
   ]
  },
  {
   "cell_type": "code",
   "execution_count": 42,
   "metadata": {},
   "outputs": [
    {
     "name": "stdout",
     "output_type": "stream",
     "text": [
      "2002024507712\n",
      "2002024507712\n"
     ]
    }
   ],
   "source": [
    "deepCities = cities\n",
    "print(id(deepCities))\n",
    "print(id(cities))"
   ]
  },
  {
   "cell_type": "code",
   "execution_count": 44,
   "metadata": {},
   "outputs": [
    {
     "data": {
      "text/plain": [
       "['Peshawar',\n",
       " 'Peshawar',\n",
       " 'Peshawar',\n",
       " 'Lahore',\n",
       " 'Lahore',\n",
       " 'Karachi',\n",
       " 'Karachi',\n",
       " 'Karachi',\n",
       " 'Karachi',\n",
       " 'Islamabad',\n",
       " 'Islamabad',\n",
       " 'Chicago']"
      ]
     },
     "execution_count": 44,
     "metadata": {},
     "output_type": "execute_result"
    }
   ],
   "source": [
    "deepCities.pop()\n",
    "deepCities\n",
    "\n"
   ]
  },
  {
   "cell_type": "code",
   "execution_count": 45,
   "metadata": {},
   "outputs": [
    {
     "data": {
      "text/plain": [
       "['Peshawar',\n",
       " 'Peshawar',\n",
       " 'Peshawar',\n",
       " 'Lahore',\n",
       " 'Lahore',\n",
       " 'Karachi',\n",
       " 'Karachi',\n",
       " 'Karachi',\n",
       " 'Karachi',\n",
       " 'Islamabad',\n",
       " 'Islamabad',\n",
       " 'Chicago']"
      ]
     },
     "execution_count": 45,
     "metadata": {},
     "output_type": "execute_result"
    }
   ],
   "source": [
    "deepCities\n"
   ]
  },
  {
   "cell_type": "code",
   "execution_count": 46,
   "metadata": {},
   "outputs": [
    {
     "data": {
      "text/plain": [
       "['Peshawar',\n",
       " 'Peshawar',\n",
       " 'Peshawar',\n",
       " 'Lahore',\n",
       " 'Lahore',\n",
       " 'Karachi',\n",
       " 'Karachi',\n",
       " 'Karachi',\n",
       " 'Karachi',\n",
       " 'Islamabad',\n",
       " 'Islamabad',\n",
       " 'Chicago']"
      ]
     },
     "execution_count": 46,
     "metadata": {},
     "output_type": "execute_result"
    }
   ],
   "source": [
    "cities\n"
   ]
  },
  {
   "cell_type": "markdown",
   "metadata": {},
   "source": [
    "### Task: \n",
    "        - Implemented Deep Copy concept in List(H.W)\n",
    "        - Adding Values"
   ]
  },
  {
   "cell_type": "markdown",
   "metadata": {},
   "source": [
    "### Slicing"
   ]
  },
  {
   "cell_type": "code",
   "execution_count": 54,
   "metadata": {},
   "outputs": [],
   "source": [
    "topThree = cities[:3]"
   ]
  },
  {
   "cell_type": "code",
   "execution_count": 55,
   "metadata": {},
   "outputs": [
    {
     "name": "stdout",
     "output_type": "stream",
     "text": [
      "['Peshawar', 'Peshawar', 'Peshawar']\n"
     ]
    }
   ],
   "source": [
    "print(topThree)"
   ]
  },
  {
   "cell_type": "code",
   "execution_count": null,
   "metadata": {},
   "outputs": [
    {
     "name": "stdout",
     "output_type": "stream",
     "text": [
      "['Lahore', 'Lahore', 'Karachi', 'Karachi', 'Karachi', 'Karachi', 'Islamabad', 'Islamabad', 'Chicago']\n"
     ]
    }
   ],
   "source": [
    "print(cities[3:])   # 3 and onwards"
   ]
  },
  {
   "cell_type": "markdown",
   "metadata": {},
   "source": [
    "### reverse without using method"
   ]
  },
  {
   "cell_type": "code",
   "execution_count": 57,
   "metadata": {},
   "outputs": [
    {
     "name": "stdout",
     "output_type": "stream",
     "text": [
      "['Chicago', 'Islamabad', 'Islamabad', 'Karachi', 'Karachi', 'Karachi', 'Karachi', 'Lahore', 'Lahore', 'Peshawar', 'Peshawar', 'Peshawar']\n"
     ]
    }
   ],
   "source": [
    "print(cities[::-1])"
   ]
  },
  {
   "cell_type": "markdown",
   "metadata": {},
   "source": [
    "### Task \n",
    "Create a student list of names and apply all methods that the we learned today "
   ]
  },
  {
   "cell_type": "code",
   "execution_count": 58,
   "metadata": {},
   "outputs": [],
   "source": [
    "students = [\"Ali\", \"Obaid\", \"Qasim\", \"Ahmed\", \"Mustafa\"]"
   ]
  },
  {
   "cell_type": "code",
   "execution_count": 61,
   "metadata": {},
   "outputs": [],
   "source": [
    "students.reverse()"
   ]
  },
  {
   "cell_type": "code",
   "execution_count": 62,
   "metadata": {},
   "outputs": [
    {
     "data": {
      "text/plain": [
       "['Mustafa', 'Ahmed', 'Qasim', 'Obaid', 'Ali']"
      ]
     },
     "execution_count": 62,
     "metadata": {},
     "output_type": "execute_result"
    }
   ],
   "source": [
    "students"
   ]
  },
  {
   "cell_type": "code",
   "execution_count": null,
   "metadata": {},
   "outputs": [],
   "source": [
    "students.remove()"
   ]
  },
  {
   "cell_type": "code",
   "execution_count": null,
   "metadata": {},
   "outputs": [],
   "source": []
  }
 ],
 "metadata": {
  "kernelspec": {
   "display_name": "Python 3",
   "language": "python",
   "name": "python3"
  },
  "language_info": {
   "codemirror_mode": {
    "name": "ipython",
    "version": 3
   },
   "file_extension": ".py",
   "mimetype": "text/x-python",
   "name": "python",
   "nbconvert_exporter": "python",
   "pygments_lexer": "ipython3",
   "version": "3.13.5"
  }
 },
 "nbformat": 4,
 "nbformat_minor": 2
}
